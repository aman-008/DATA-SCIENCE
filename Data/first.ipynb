{
 "cells": [
  {
   "cell_type": "code",
   "execution_count": 2,
   "id": "66a15118-ff2c-4ea6-9dd8-e22e391aaa3c",
   "metadata": {},
   "outputs": [
    {
     "name": "stdout",
     "output_type": "stream",
     "text": [
      "namaste duniya\n"
     ]
    }
   ],
   "source": [
    "print(\"namaste duniya\")"
   ]
  },
  {
   "cell_type": "code",
   "execution_count": null,
   "id": "d90b9da0-1d94-4d3f-9145-bda57d89a08d",
   "metadata": {},
   "outputs": [],
   "source": []
  }
 ],
 "metadata": {
  "kernelspec": {
   "display_name": "Python [conda env:base] *",
   "language": "python",
   "name": "conda-base-py"
  },
  "language_info": {
   "codemirror_mode": {
    "name": "ipython",
    "version": 3
   },
   "file_extension": ".py",
   "mimetype": "text/x-python",
   "name": "python",
   "nbconvert_exporter": "python",
   "pygments_lexer": "ipython3",
   "version": "3.10.16"
  }
 },
 "nbformat": 4,
 "nbformat_minor": 5
}
