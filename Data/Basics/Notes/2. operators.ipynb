{
 "cells": [
  {
   "cell_type": "markdown",
   "id": "681b16fb",
   "metadata": {},
   "source": [
    "# Operators In Python\n",
    "- Arithemetic Operator\n",
    "- Relational Operator\n",
    "- Logical Operator\n",
    "- Bitwise Operator\n",
    "- Assignment Operator\n",
    "- Membership Operator"
   ]
  },
  {
   "cell_type": "code",
   "execution_count": 4,
   "id": "63b0655f",
   "metadata": {},
   "outputs": [
    {
     "name": "stdout",
     "output_type": "stream",
     "text": [
      "11\n",
      "-1\n",
      "30\n",
      "2.5\n",
      "2\n",
      "1\n",
      "25\n"
     ]
    }
   ],
   "source": [
    "# Arithmetic Operator\n",
    "print(5+6)\n",
    "\n",
    "print(5-6)\n",
    "\n",
    "print(5*6)\n",
    "\n",
    "print(5/2)\n",
    "\n",
    "print(5//2)\n",
    "\n",
    "print(5%2)\n",
    "\n",
    "print(5**2)"
   ]
  },
  {
   "cell_type": "code",
   "execution_count": 5,
   "id": "78087187",
   "metadata": {},
   "outputs": [
    {
     "name": "stdout",
     "output_type": "stream",
     "text": [
      "False\n",
      "True\n",
      "True\n",
      "True\n",
      "True\n",
      "False\n"
     ]
    }
   ],
   "source": [
    "# Relational Operators\n",
    "print(4>5)\n",
    "\n",
    "print(4<5)\n",
    "\n",
    "print(4>=4)\n",
    "\n",
    "print(4<=4)\n",
    "\n",
    "print(4==4)\n",
    "\n",
    "print(4!=4)"
   ]
  },
  {
   "cell_type": "code",
   "execution_count": 6,
   "id": "d46f3afc",
   "metadata": {},
   "outputs": [
    {
     "name": "stdout",
     "output_type": "stream",
     "text": [
      "0\n",
      "1\n",
      "False\n"
     ]
    }
   ],
   "source": [
    "# Logical Operators\n",
    "print(1 and 0)\n",
    "\n",
    "print(1 or 0)\n",
    "\n",
    "print(not 1)"
   ]
  },
  {
   "cell_type": "code",
   "execution_count": 3,
   "id": "ee97666f",
   "metadata": {},
   "outputs": [
    {
     "name": "stdout",
     "output_type": "stream",
     "text": [
      "2\n",
      "3\n",
      "1\n",
      "-4\n",
      "1\n",
      "20\n"
     ]
    }
   ],
   "source": [
    "# Bitwise Operators\n",
    "\n",
    "# bitwise and \n",
    "print(2 & 3)\n",
    "\n",
    "\n",
    "# bitwise or\n",
    "print(2 | 3)\n",
    "\n",
    "# bitwise xor\n",
    "print(2 ^ 3)\n",
    "\n",
    "print(~3)\n",
    "\n",
    "print(4 >> 2)\n",
    "\n",
    "print(5 << 2)"
   ]
  },
  {
   "cell_type": "code",
   "execution_count": null,
   "id": "beee9a83",
   "metadata": {},
   "outputs": [
    {
     "name": "stdout",
     "output_type": "stream",
     "text": [
      "4\n"
     ]
    }
   ],
   "source": [
    "# Assignment Operators\n",
    "\n",
    "# =\n",
    "# a = 2\n",
    "\n",
    "a = 2\n",
    "\n",
    "\n",
    "# a = a + 2\n",
    "a += 2\n",
    "print(a)"
   ]
  },
  {
   "cell_type": "code",
   "execution_count": null,
   "id": "a7d0a4a4",
   "metadata": {},
   "outputs": [
    {
     "name": "stdout",
     "output_type": "stream",
     "text": [
      "False\n"
     ]
    }
   ],
   "source": [
    "# Membership Operators\n",
    "\n",
    "# in/not in\n",
    "\n",
    "print('D' in 'Delhi')\n",
    "\n",
    "\n",
    "print('D' not in 'Delhi')\n",
    "\n",
    "print(1 in [2,3,4,5,6])"
   ]
  },
  {
   "cell_type": "code",
   "execution_count": 14,
   "id": "94ae913f",
   "metadata": {},
   "outputs": [
    {
     "name": "stdout",
     "output_type": "stream",
     "text": [
      "9\n"
     ]
    }
   ],
   "source": [
    "number = int(input('Enter a 3 digit number: '))\n",
    "\n",
    "a = number % 10\n",
    "\n",
    "number = number // 10\n",
    "\n",
    "b = number % 10\n",
    "\n",
    "number = number // 10\n",
    "\n",
    "c = number % 10\n",
    "\n",
    "print(a + b + c)"
   ]
  },
  {
   "cell_type": "code",
   "execution_count": 12,
   "id": "ede460c1",
   "metadata": {},
   "outputs": [
    {
     "name": "stdout",
     "output_type": "stream",
     "text": [
      "12\n"
     ]
    }
   ],
   "source": [
    "number = int(input('Enter a 3 digit Number: '))\n",
    "sum = 0\n",
    "while(number != 0):\n",
    "    digit = number % 10\n",
    "    sum += digit\n",
    "    number = number // 10\n",
    "print(sum)"
   ]
  },
  {
   "cell_type": "markdown",
   "id": "99ee022a",
   "metadata": {},
   "source": [
    "# If-else in Python"
   ]
  },
  {
   "cell_type": "code",
   "execution_count": 2,
   "id": "2a07a1f6",
   "metadata": {},
   "outputs": [
    {
     "name": "stdout",
     "output_type": "stream",
     "text": [
      "Incorrect Password\n",
      "Aapse na ho payega!\n"
     ]
    }
   ],
   "source": [
    "# login program and indentation\n",
    "# email -> aman.campusx@gmail.com\n",
    "# password -> 123009\n",
    "\n",
    "email = input('enter email: ')\n",
    "password = input('enter password')\n",
    "\n",
    "if email == 'aman.campusx@gmail.com' and password == '123009':\n",
    "    print('welcome to the site')\n",
    "elif email == 'aman.campusx@gmail.com' and password != '123009':\n",
    "    print('Incorrect Password')\n",
    "    password = input(\"enter password\")\n",
    "    if password == '123009':\n",
    "        print('Welcome!')\n",
    "    else:\n",
    "        print('Aapse na ho payega!')\n",
    "else:\n",
    "    print('try it again!')"
   ]
  },
  {
   "cell_type": "code",
   "execution_count": 3,
   "id": "9a4b3de3",
   "metadata": {},
   "outputs": [],
   "source": [
    "# If-else examples\n",
    "# 1. Find the min of 3 given numbers\n",
    "# 2. Menu Driven Progress"
   ]
  },
  {
   "cell_type": "code",
   "execution_count": 5,
   "id": "7b2d3149",
   "metadata": {},
   "outputs": [
    {
     "name": "stdout",
     "output_type": "stream",
     "text": [
      "The minimum number is :  8\n"
     ]
    }
   ],
   "source": [
    "# 1. Find the min of 3 given numbers\n",
    "a = int(input('Enter the first number: '))\n",
    "b = int(input('Enter the second number: '))\n",
    "c = int(input('Enter the third number: '))\n",
    "\n",
    "if a < b and a < c:\n",
    "    print('The minimum number is : ',a)\n",
    "elif b < c:\n",
    "    print('The minimum number is : ',b)\n",
    "else:\n",
    "    print('The minimum number is : ',c)"
   ]
  },
  {
   "cell_type": "code",
   "execution_count": 6,
   "id": "ef74e48a",
   "metadata": {},
   "outputs": [
    {
     "name": "stdout",
     "output_type": "stream",
     "text": [
      "36\n"
     ]
    }
   ],
   "source": [
    "# 2. Menu Driven Progress\n",
    "fnum = int(input('enter the 1st number: '))\n",
    "snum = int(input('enter the 2nd number: '))\n",
    "\n",
    "op = input('Enter the operation')\n",
    "\n",
    "if op == '+':\n",
    "    print(fnum + snum)\n",
    "elif op == '-':\n",
    "    print(fnum - snum)\n",
    "elif op == '*':\n",
    "    print(fnum * snum)\n",
    "elif op == '/':\n",
    "    print(fnum / snum)\n",
    "else:\n",
    "    print('enter the correct operation')"
   ]
  },
  {
   "cell_type": "markdown",
   "id": "e8627399",
   "metadata": {},
   "source": [
    "# Modules in Python\n",
    "\n",
    "- math\n",
    "- keywords\n",
    "- random\n",
    "- datetime"
   ]
  },
  {
   "cell_type": "code",
   "execution_count": 9,
   "id": "643987f7",
   "metadata": {},
   "outputs": [
    {
     "data": {
      "text/plain": [
       "4.0"
      ]
     },
     "execution_count": 9,
     "metadata": {},
     "output_type": "execute_result"
    }
   ],
   "source": [
    "# math\n",
    "import math\n",
    "\n",
    "math.factorial(5)\n",
    "math.floor(6.9)\n",
    "math.sqrt(16)"
   ]
  },
  {
   "cell_type": "code",
   "execution_count": 10,
   "id": "fef10528",
   "metadata": {},
   "outputs": [
    {
     "name": "stdout",
     "output_type": "stream",
     "text": [
      "['False', 'None', 'True', 'and', 'as', 'assert', 'async', 'await', 'break', 'class', 'continue', 'def', 'del', 'elif', 'else', 'except', 'finally', 'for', 'from', 'global', 'if', 'import', 'in', 'is', 'lambda', 'nonlocal', 'not', 'or', 'pass', 'raise', 'return', 'try', 'while', 'with', 'yield']\n"
     ]
    }
   ],
   "source": [
    "# keyword\n",
    "import keyword\n",
    "print(keyword.kwlist)"
   ]
  },
  {
   "cell_type": "code",
   "execution_count": 14,
   "id": "95216457",
   "metadata": {},
   "outputs": [
    {
     "name": "stdout",
     "output_type": "stream",
     "text": [
      "63\n"
     ]
    }
   ],
   "source": [
    "# random\n",
    "import random\n",
    "print(random.randint(1,100))"
   ]
  },
  {
   "cell_type": "code",
   "execution_count": 15,
   "id": "28caf2ec",
   "metadata": {},
   "outputs": [
    {
     "name": "stdout",
     "output_type": "stream",
     "text": [
      "2025-05-14 23:36:55.492370\n"
     ]
    }
   ],
   "source": [
    "# datetime\n",
    "import datetime\n",
    "\n",
    "print(datetime.datetime.now())"
   ]
  },
  {
   "cell_type": "code",
   "execution_count": 17,
   "id": "9597a508",
   "metadata": {},
   "outputs": [
    {
     "name": "stdout",
     "output_type": "stream",
     "text": [
      "\n",
      "Please wait a moment while I gather a list of all available modules...\n",
      "\n",
      "AnyQt               _testimportmultiple genericpath         pydantic\n",
      "Arrow               _testinternalcapi   getopt              pydantic_core\n",
      "BarGraphItem        _testmultiphase     getpass             pydantic_settings\n",
      "CLIexample          _thread             gettext             pydoc\n",
      "ColorBarItem        _threading_local    glob                pydoc_data\n",
      "ColorButton         _tkinter            glow                pyexpat\n",
      "ColorGradientPlots  _tracemalloc        graphlib            pygments\n",
      "ConsoleWidget       _uuid               graphviz            pylab\n",
      "CustomGraphItem     _warnings           greenlet            pyparsing\n",
      "DataSlicing         _watchdog_fsevents  grp                 pyqtgraph\n",
      "DataTreeWidget      _weakref            gzip                pythonjsonlogger\n",
      "DateAxisItem        _weakrefset         h11                 pytz\n",
      "DateAxisItem_QtDesigner _xxsubinterpreters  hashlib             pyviz_comms\n",
      "DiffTreeWidget      _xxtestfuzz         hdf5                qasync\n",
      "Draw                _yaml               heapq               qtconsole\n",
      "ErrorBarItem        _zoneinfo           histogram           qtpy\n",
      "ExampleApp          abc                 hmac                queue\n",
      "FillBetweenItem     aext_assistant      html                quopri\n",
      "Flowchart           aext_assistant_server http                random\n",
      "FlowchartCustomNode aext_core           httpcore            re\n",
      "GLBarGraphItem      aext_core_server    httpx               readchar\n",
      "GLGradientLegendItem aext_panels         idlelib             readline\n",
      "GLGraphItem         aext_panels_server  idna                referencing\n",
      "GLImageItem         aext_project_filebrowser_server imageAnalysis       relativity\n",
      "GLIsosurface        aext_share_notebook imaplib             relativity_demo\n",
      "GLLinePlotItem      aext_share_notebook_server imghdr              repo_cli\n",
      "GLMeshItem          aext_shared         imp                 reprlib\n",
      "GLPainterItem       aext_toolbox        importlib           requests\n",
      "GLScatterPlotItem   aifc                importlib_metadata  requests_cache\n",
      "GLSurfacePlot       alembic             infiniteline_performance requests_toolbelt\n",
      "GLTextItem          anaconda_anon_usage inspect             resource\n",
      "GLViewWidget        anaconda_auth       io                  rfc3339_validator\n",
      "GLVolumeItem        anaconda_cli_base   ipaddress           rfc3986_validator\n",
      "GLshaders           anaconda_cloud_auth ipykernel           rich\n",
      "GradientEditor      anaconda_navigator  ipykernel_launcher  rlcompleter\n",
      "GradientWidget      anaconda_project    isocurve            rpds\n",
      "GraphItem           annotated_types     itertools           ruamel_yaml\n",
      "GraphicsLayout      antigravity         itsdangerous        runpy\n",
      "GraphicsScene       anyio               jedi                sched\n",
      "HistogramLUT        appnope             jinja2              scipy\n",
      "IPython             archspec            joblib              scrollingPlots\n",
      "ImageItem           argon2              json                secrets\n",
      "ImageView           argparse            json5               select\n",
      "InfiniteLine        array               jsonpatch           selectors\n",
      "InteractiveParameter ast                 jsonpointer         semver\n",
      "JoystickButton      asttokens           jsonschema          send2trash\n",
      "Legend              async_lru           jsonschema_specifications sentry_sdk\n",
      "LogPlotTest         asynchat            jupyter             serverfiles\n",
      "MatrixDisplayExample asyncio             jupyter_client      setuptools\n",
      "MouseSelection      asyncore            jupyter_console_example shellingham\n",
      "MultiPlotSpeedTest  atexit              jupyter_core        shelve\n",
      "MultiplePlotAxes    attr                jupyter_events      shlex\n",
      "NonUniformImage     attrs               jupyter_lsp         shutil\n",
      "OpenSSL             audioop             jupyter_server      signal\n",
      "Orange              babel               jupyter_server_terminals sipbuild\n",
      "PColorMeshItem      backports           jupyterlab          site\n",
      "PIL                 base64              jupyterlab_plotly   six\n",
      "PanningPlot         baycomp             jupyterlab_pygments sklearn\n",
      "PlotAutoRange       bdb                 jupyterlab_server   smtpd\n",
      "PlotSpeedTest       beeswarm            jwt                 smtplib\n",
      "PlotWidget          binascii            keyring             sndhdr\n",
      "Plotting            binhex              keyrings            sniffio\n",
      "ProgressDialog      binstar_client      keyword             socket\n",
      "PyQt5               bisect              kiwisolver          socketserver\n",
      "ROIExamples         bleach              lib2to3             socks\n",
      "ROItypes            bokeh               libarchive          sockshandler\n",
      "RemoteGraphicsView  boltons             libfuturize         soupsieve\n",
      "RemoteSpeedTest     bottleneck          libmambapy          sqlalchemy\n",
      "RunExampleApp       brotli              libpasteurize       sqlite3\n",
      "ScaleBar            bs4                 lief                sre_compile\n",
      "ScatterPlot         builtins            linecache           sre_constants\n",
      "ScatterPlotSpeedTest bz2                 linkedViews         sre_parse\n",
      "ScatterPlotWidget   cProfile            linkify_it          ssl\n",
      "SimplePlot          calendar            locale              stack_data\n",
      "SpinBox             catboost            logAxis             stat\n",
      "Symbols             cattr               logging             statistics\n",
      "TableWidget         cattrs              lzma                string\n",
      "TreeWidget          certifi             mailbox             stringprep\n",
      "VideoSpeedTest      cffi                mailcap             struct\n",
      "VideoTemplate_generic cgi                 mako                subprocess\n",
      "ViewBox             cgitb               markdown            sunau\n",
      "ViewBoxFeatures     chardet             markdown_it         symtable\n",
      "ViewLimits          charset_normalizer  markupsafe          syntax\n",
      "__future__          chunk               marshal             sys\n",
      "__main__            click               math                sysconfig\n",
      "_abc                cmath               matplotlib          syslog\n",
      "_aix_support        cmd                 matplotlib_inline   tabnanny\n",
      "_argon2_cffi_bindings code                mdit_py_plugins     tabulate\n",
      "_ast                codecs              mdurl               tarfile\n",
      "_asyncio            codeop              menuinst            telnetlib\n",
      "_bisect             collections         mimetypes           tempfile\n",
      "_blake2             colorMaps           mistune             template\n",
      "_bootsubprocess     colorMapsLinearized mmap                tenacity\n",
      "_brotli             colorama            modulefinder        terminado\n",
      "_buildParamTypes    colorsys            more_itertools      termios\n",
      "_bz2                comm                multiplePlotSpeedTest test\n",
      "_cffi_backend       commonmark          multiprocess        test_examples\n",
      "_codecs             community           multiprocessing     test_pycosat\n",
      "_codecs_cn          compileall          navigator_updater   tests\n",
      "_codecs_hk          concurrent          nb_conda_kernels    text\n",
      "_codecs_iso2022     conda               nbclient            textwrap\n",
      "_codecs_jp          conda_build         nbconvert           this\n",
      "_codecs_kr          conda_content_trust nbformat            threading\n",
      "_codecs_tw          conda_env           nest_asyncio        threadpoolctl\n",
      "_collections        conda_index         netrc               time\n",
      "_collections_abc    conda_libmamba_solver networkx            timeit\n",
      "_compat_pickle      conda_pack          nis                 tinycss2\n",
      "_compression        conda_package_handling nntplib             tkinter\n",
      "_contextvars        conda_package_streaming notebook            token\n",
      "_crypt              conda_token         notebook_shim       tokenize\n",
      "_csv                conda_verify        ntpath              tomli\n",
      "_ctypes             configparser        nturl2path          tornado\n",
      "_ctypes_test        contextMenu         numbergen           tqdm\n",
      "_curses             contextlib          numbers             trace\n",
      "_curses_panel       contextvars         numexpr             traceback\n",
      "_datetime           contourpy           numpy               tracemalloc\n",
      "_dbm                copy                opcode              traitlets\n",
      "_decimal            copyreg             openTSNE            truststore\n",
      "_distutils_hack     crosshair           openpyxl            tty\n",
      "_elementtree        crypt               operator            turtle\n",
      "_functools          cryptography        optics              turtledemo\n",
      "_hashlib            csv                 optics_demos        typer\n",
      "_heapq              ctypes              optparse            types\n",
      "_imp                curses              orangecanvas        typing\n",
      "_io                 customGraphicsItem  orangewidget        typing_extensions\n",
      "_json               customPlot          os                  tzdata\n",
      "_locale             cycler              overrides           uc_micro\n",
      "_lsprof             dataclasses         packaging           ujson\n",
      "_lzma               datetime            pandas              unicodedata\n",
      "_markupbase         dateutil            pandocfilters       unicodedata2\n",
      "_md5                dbm                 panel               unittest\n",
      "_multibytecodec     debugpy             parallelize         url_normalize\n",
      "_multiprocessing    decimal             param               urllib\n",
      "_opcode             decorator           parametertree       urllib3\n",
      "_operator           defusedxml          parso               utils\n",
      "_osx_support        designerExample     past                uu\n",
      "_paramtreecfg       dictdiffer          pathlib             uuid\n",
      "_pickle             difflib             pdb                 venv\n",
      "_plotly_future_     dis                 pexpect             verlet_chain\n",
      "_plotly_utils       distro              pickle              verlet_chain_demo\n",
      "_posixshmem         distutils           pickletools         warnings\n",
      "_posixsubprocess    dmglib              pip                 watchdog\n",
      "_py_abc             dockarea            pipes               wave\n",
      "_pydecimal          doctest             pkce                wcwidth\n",
      "_pyio               docutils            pkg_resources       weakref\n",
      "_queue              dotenv              pkginfo             webbrowser\n",
      "_random             email               pkgutil             webencodings\n",
      "_ruamel_yaml        encodings           platform            websocket\n",
      "_scproxy            ensurepip           platformdirs        wheel\n",
      "_sha1               enum                plistlib            wsgiref\n",
      "_sha256             errno               plotly              xdrlib\n",
      "_sha3               et_xmlfile          pluggy              xgboost\n",
      "_sha512             exampleLoaderTemplate_generic ply                 xlrd\n",
      "_signal             exceptiongroup      poplib              xlsxwriter\n",
      "_sitebuiltins       executing           posix               xml\n",
      "_socket             fastjsonschema      posixpath           xmlrpc\n",
      "_sqlite3            faulthandler        pprint              xxlimited\n",
      "_sre                fcntl               profile             xxlimited_35\n",
      "_ssl                filecmp             prometheus_client   xxsubtype\n",
      "_stat               fileinput           prompt_toolkit      xyzservices\n",
      "_statistics         filelock            pstats              yaml\n",
      "_string             fnmatch             psutil              zipapp\n",
      "_strptime           fontTools           pty                 zipfile\n",
      "_struct             fractal             ptyprocess          zipimport\n",
      "_symtable           fractions           pure_eval           zipp\n",
      "_sysconfigdata__darwin_darwin frozendict          pwd                 zlib\n",
      "_sysconfigdata_x86_64_apple_darwin13_4_0 ftplib              py_compile          zmq\n",
      "_testbuffer         functools           pyclbr              zoneinfo\n",
      "_testcapi           future              pycosat             zstandard\n",
      "_testclinic         gc                  pycparser           \n",
      "\n",
      "Enter any module name to get more help.  Or, type \"modules spam\" to search\n",
      "for modules whose name or summary contain the string \"spam\".\n",
      "\n"
     ]
    }
   ],
   "source": [
    "help('modules')"
   ]
  },
  {
   "cell_type": "markdown",
   "id": "bfb75fe1",
   "metadata": {},
   "source": [
    "# Loops in Python\n",
    "\n",
    "- Need for loops\n",
    "- While Loop\n",
    "- For Loop"
   ]
  },
  {
   "cell_type": "code",
   "execution_count": null,
   "id": "c8c80c6a",
   "metadata": {},
   "outputs": [],
   "source": [
    "# While loop example -> program to print the table\n",
    "# Program ->  Sum of all digits of a given number\n",
    "# Program -> keep accepting numbers from users till he/she enters a 0 and find avg"
   ]
  },
  {
   "cell_type": "code",
   "execution_count": 21,
   "id": "0fe62a79",
   "metadata": {},
   "outputs": [
    {
     "name": "stdout",
     "output_type": "stream",
     "text": [
      "5 * 1 = 5\n",
      "5 * 2 = 10\n",
      "5 * 3 = 15\n",
      "5 * 4 = 20\n",
      "5 * 5 = 25\n",
      "5 * 6 = 30\n",
      "5 * 7 = 35\n",
      "5 * 8 = 40\n",
      "5 * 9 = 45\n",
      "5 * 10 = 50\n"
     ]
    }
   ],
   "source": [
    "number = int(input('enter the number: '))\n",
    "i = 1\n",
    "while i<11:\n",
    "    print(number,'*',i,'=',number * i)\n",
    "    i += 1\n"
   ]
  },
  {
   "cell_type": "code",
   "execution_count": 4,
   "id": "88292835",
   "metadata": {},
   "outputs": [
    {
     "name": "stdout",
     "output_type": "stream",
     "text": [
      "1\n",
      "2\n",
      "limit crossed\n"
     ]
    }
   ],
   "source": [
    "# while loop with else\n",
    "i = 1\n",
    "while i < 3:\n",
    "    print(i)\n",
    "    i+=1\n",
    "else: \n",
    "    print('limit crossed')"
   ]
  },
  {
   "cell_type": "code",
   "execution_count": 6,
   "id": "0f08c2d6",
   "metadata": {},
   "outputs": [
    {
     "name": "stdout",
     "output_type": "stream",
     "text": [
      "wrong! guess higher\n",
      "wrong! guess higher\n",
      "wrong! guess higher\n",
      "guess lower\n",
      "wrong! guess higher\n",
      "correct guess\n",
      "attempt 6\n"
     ]
    }
   ],
   "source": [
    "# Guessing Game\n",
    "\n",
    "# generate a random integer between 1 and 100\n",
    "\n",
    "import random\n",
    "\n",
    "jackpot = random.randint(1,100)\n",
    "\n",
    "guess = int(input('guess the number: '))\n",
    "\n",
    "counter = 1\n",
    "\n",
    "while guess != jackpot:\n",
    "    if guess < jackpot:\n",
    "        print('wrong! guess higher')\n",
    "    else:\n",
    "        print(\"guess lower\")\n",
    "    guess = int(input('guess the number: '))\n",
    "    \n",
    "    counter += 1\n",
    "\n",
    "else:\n",
    "    print('correct guess')\n",
    "    print('attempt',counter)"
   ]
  },
  {
   "cell_type": "code",
   "execution_count": 10,
   "id": "e8168154",
   "metadata": {},
   "outputs": [
    {
     "name": "stdout",
     "output_type": "stream",
     "text": [
      "D\n",
      "e\n",
      "l\n",
      "h\n",
      "i\n"
     ]
    }
   ],
   "source": [
    "# for loop demo\n",
    "\n",
    "# for i in range(1,11,2):\n",
    "#     print(i)\n",
    "\n",
    "# for i in range( 10, 0, -1):\n",
    "#     print(i)\n",
    "\n",
    "for i in 'Delhi':\n",
    "    print(i)"
   ]
  },
  {
   "cell_type": "markdown",
   "id": "4acd9234",
   "metadata": {},
   "source": [
    "### Program - The current population of a town is 10000. The population of the town is increasing at the rate of 10% per year. You have to write a program to find out the population at the end of each of the last 10 years."
   ]
  },
  {
   "cell_type": "code",
   "execution_count": 1,
   "id": "e43e1c74",
   "metadata": {},
   "outputs": [
    {
     "name": "stdout",
     "output_type": "stream",
     "text": [
      "10 10000\n",
      "9 9090.90909090909\n",
      "8 8264.462809917353\n",
      "7 7513.148009015775\n",
      "6 6830.134553650703\n",
      "5 6209.213230591548\n",
      "4 5644.739300537771\n",
      "3 5131.5811823070635\n",
      "2 4665.07380209733\n",
      "1 4240.976183724845\n"
     ]
    }
   ],
   "source": [
    "curr_pop = 10000\n",
    "for i in range(10, 0, -1):\n",
    "    print(i, curr_pop)\n",
    "    curr_pop = curr_pop /1.1"
   ]
  }
 ],
 "metadata": {
  "kernelspec": {
   "display_name": "base",
   "language": "python",
   "name": "python3"
  },
  "language_info": {
   "codemirror_mode": {
    "name": "ipython",
    "version": 3
   },
   "file_extension": ".py",
   "mimetype": "text/x-python",
   "name": "python",
   "nbconvert_exporter": "python",
   "pygments_lexer": "ipython3",
   "version": "3.12.7"
  }
 },
 "nbformat": 4,
 "nbformat_minor": 5
}
