{
  "cells": [
    {
      "cell_type": "markdown",
      "metadata": {
        "id": "A05OG15VqOPF"
      },
      "source": [
        "# Task : Session 1\n",
        "\n",
        "Solve these questions own your own and try to test yourself what you have learned in the session.\n",
        "\n",
        "Happy Learning!\n"
      ]
    },
    {
      "cell_type": "markdown",
      "metadata": {
        "id": "2doIXf8bqe9_"
      },
      "source": [
        "### Q1 :- Print the given strings as per stated format.\n",
        "\n",
        "**Given strings**:\n",
        "\n",
        "```\n",
        "\"Data\" \"Science\" \"Mentorship\" \"Program\"\n",
        "\"By\" \"CampusX\"\n",
        "```\n",
        "\n",
        "**Output**:\n",
        "\n",
        "```\n",
        "Data-Science-Mentorship-Program-started-By-CampusX\n",
        "```\n",
        "\n",
        "Concept- [Seperator and End]\n"
      ]
    },
    {
      "cell_type": "code",
      "execution_count": null,
      "metadata": {
        "id": "-em6d3KErDtp"
      },
      "outputs": [
        {
          "name": "stdout",
          "output_type": "stream",
          "text": [
            "Data-Science-Mentorship-Program-started-By-CampusX\n"
          ]
        }
      ],
      "source": [
        "# Write your code here\n",
        "print(\"Data\", \"Science\", \"Mentorship\", \"Program\", sep='-', end='-started-')\n",
        "print(\"By\", \"CampusX\", sep='-')"
      ]
    },
    {
      "cell_type": "markdown",
      "metadata": {
        "id": "1KUpN7ZTrC3_"
      },
      "source": [
        "### Q2:- Write a program that will convert celsius value to fahrenheit.\n"
      ]
    },
    {
      "cell_type": "code",
      "execution_count": 1,
      "metadata": {
        "id": "yxKYhYQiqWfj"
      },
      "outputs": [
        {
          "name": "stdout",
          "output_type": "stream",
          "text": [
            "86.0\n"
          ]
        }
      ],
      "source": [
        "# Write your code here\n",
        "cel = int(input(\"enter the temperature\"))\n",
        "faren = (cel * 9/5) + 32\n",
        "print(faren)"
      ]
    },
    {
      "cell_type": "markdown",
      "metadata": {
        "id": "RLrOBBJurLB2"
      },
      "source": [
        "### Q3:- Take 2 numbers as input from the user.Write a program to swap the numbers without using any special python syntax.\n"
      ]
    },
    {
      "cell_type": "code",
      "execution_count": null,
      "metadata": {
        "id": "yPn7if0TrJ4F"
      },
      "outputs": [
        {
          "name": "stdout",
          "output_type": "stream",
          "text": [
            "fnum:  7 snum:  5\n"
          ]
        }
      ],
      "source": [
        "# Write your code here\n",
        "fnum = int(input(\"enter the first num: \"))\n",
        "snum = int(input(\"enter the second num: \"))\n",
        "# fnum, snum = snum, fnum\n",
        "temp = fnum\n",
        "fnum = snum\n",
        "snum = temp\n",
        "print(\"fnum: \", fnum, \"snum: \", snum, sep=' ')"
      ]
    },
    {
      "cell_type": "markdown",
      "metadata": {
        "id": "waLCP1bjr7ML"
      },
      "source": [
        "### Q4:- Write a program to find the euclidean distance between two coordinates.Take both the coordinates from the user as input.\n"
      ]
    },
    {
      "cell_type": "code",
      "execution_count": null,
      "metadata": {
        "id": "Pl1Sv-xnrxnH"
      },
      "outputs": [
        {
          "name": "stdout",
          "output_type": "stream",
          "text": [
            "2.83\n"
          ]
        }
      ],
      "source": [
        "# Write your code here\n",
        "pt1x = int(input('enter x cood of 1st point: '))\n",
        "pt1y = int(input('enter y cood of 1st point: '))\n",
        "pt2x = int(input('enter x cood of 2nd point: '))\n",
        "pt2y = int(input('enter y cood of 2nd point: '))\n",
        "\n",
        "distance = ((pt2x - pt1x) ** 2 + (pt2y - pt1y)**2) ** 0.5\n",
        "print(round(distance, 2))"
      ]
    },
    {
      "cell_type": "markdown",
      "metadata": {
        "id": "VLrhg-FRsHjR"
      },
      "source": [
        "### Q5:- Write a program to find the simple interest when the value of principle,rate of interest and time period is provided by the user.\n"
      ]
    },
    {
      "cell_type": "code",
      "execution_count": null,
      "metadata": {
        "id": "s40DlReZsTmY"
      },
      "outputs": [
        {
          "name": "stdout",
          "output_type": "stream",
          "text": [
            "Simple Interest :  500.0\n"
          ]
        }
      ],
      "source": [
        "# Write your code here\n",
        "principle = int(input(\"enter your principle: \"))\n",
        "rate = int(input(\"enter your rate: \"))\n",
        "time = int(input(\"ennter your interest: \"))\n",
        "SI = (principle*rate*time)/100\n",
        "print(\"Simple Interest : \", SI)"
      ]
    },
    {
      "cell_type": "markdown",
      "metadata": {
        "id": "LMy0BTUktYKa"
      },
      "source": [
        "### Q6:- Write a program that will tell the number of dogs and chicken are there when the user will provide the value of total heads and legs.\n",
        "\n",
        "For example:\n",
        "Input:\n",
        "heads -> 4\n",
        "legs -> 12\n",
        "<br>\n",
        "Output:\n",
        "dogs -> 2\n",
        "chicken -> 2\n"
      ]
    },
    {
      "cell_type": "code",
      "execution_count": null,
      "metadata": {
        "id": "XSBvJoA4tXaG"
      },
      "outputs": [
        {
          "name": "stdout",
          "output_type": "stream",
          "text": [
            "chicken -> 2\n",
            "dogs -> 2\n"
          ]
        }
      ],
      "source": [
        "# Write your code here\n",
        "# dogs = int(input('enter the dogs head?'))\n",
        "# chickens = int(input('enter the chicken head'))\n",
        "# total_head = dogs + chickens\n",
        "# total_legs = ((2 * chickens)+(4*dogs))\n",
        "# print(total_head, total_legs)\n",
        "\n",
        "\n",
        "heads = int(input(\"Enter total number of heads: \"))\n",
        "legs = int(input(\"Enter total number of legs: \"))\n",
        "\n",
        "dogs = (legs - (2 * heads)) // 2\n",
        "chickens = heads - dogs\n",
        "\n",
        "# Print result\n",
        "print(\"chicken ->\", chickens)\n",
        "print(\"dogs ->\", dogs)"
      ]
    },
    {
      "cell_type": "markdown",
      "metadata": {
        "id": "gJ7C5kZYt4BP"
      },
      "source": [
        "### Q7:- Write a program to find the sum of squares of first n natural numbers where n will be provided by the user.\n"
      ]
    },
    {
      "cell_type": "code",
      "execution_count": 6,
      "metadata": {
        "id": "_tHsmEHzt2nX"
      },
      "outputs": [
        {
          "name": "stdout",
          "output_type": "stream",
          "text": [
            "55.0\n"
          ]
        }
      ],
      "source": [
        "# Write your code here\n",
        "n = int(input(\"enter the number: \"))\n",
        "# sum = 0\n",
        "# for i in range(1,n+1):\n",
        "#     sum = (sum + (i**2))\n",
        "# print(sum)\n",
        "\n",
        "result = (n*(n+1) * (2*n + 1))/6\n",
        "print(result)"
      ]
    },
    {
      "cell_type": "markdown",
      "metadata": {
        "id": "FHrMM7g-yG1h"
      },
      "source": [
        "### Q8:- Given the first 2 terms of an Arithmetic Series.Find the Nth term of the series. Assume all inputs are provided by the user.\n"
      ]
    },
    {
      "cell_type": "code",
      "execution_count": null,
      "metadata": {
        "id": "go4_kmZmyVSx"
      },
      "outputs": [
        {
          "name": "stdout",
          "output_type": "stream",
          "text": [
            "47/77\n"
          ]
        }
      ],
      "source": [
        "# Write your code here\n",
        "# Input: first two terms and the value of N\n",
        "f1 = int(input(\"Enter the first term (f1): \"))\n",
        "f2 = int(input(\"Enter the second term (f2): \"))\n",
        "n = int(input(\"Enter the value of N: \"))\n",
        "\n",
        "# Calculate the common difference\n",
        "d = f2 - f1\n",
        "\n",
        "# Calculate the Nth term using the formula: a_n = a1 + (n - 1) * d\n",
        "fn = (f1 + ((n - 1) * d))\n",
        "\n",
        "# Output the result\n",
        "print(f\"The {n}th term of the arithmetic series is: {fn}\")"
      ]
    },
    {
      "cell_type": "markdown",
      "metadata": {
        "id": "QgyRX_es1oum"
      },
      "source": [
        "### Q9:- Given 2 fractions, find the sum of those 2 fractions.Take the numerator and denominator values of the fractions from the user.\n"
      ]
    },
    {
      "cell_type": "code",
      "execution_count": null,
      "metadata": {
        "id": "X05xqFS1yW16"
      },
      "outputs": [],
      "source": [
        "# Input: first two terms and number of terms\n",
        "n1 = int(input('num1'))\n",
        "d1 = int(input('den1'))\n",
        "n2 = int(input('num2'))\n",
        "d2 = int(input('den2'))\n",
        "\n",
        "rn = n1 * d2 + n2*d1\n",
        "rd = d1*d2\n",
        "\n",
        "print('{}/{}'.format(rn, rd))"
      ]
    },
    {
      "cell_type": "markdown",
      "metadata": {
        "id": "eaql38ln13u7"
      },
      "source": [
        "### Q10:- Given the height, width and breadth of a milk tank, you have to find out how many glasses of milk can be obtained? Assume all the inputs are provided by the user.\n",
        "\n",
        "Input:<br>\n",
        "Dimensions of the milk tank<br>\n",
        "H = 20cm, L = 20cm, B = 20cm\n",
        "<br><br>\n",
        "Dimensions of the glass<br>\n",
        "h = 3cm, r = 1cm\n"
      ]
    },
    {
      "cell_type": "code",
      "execution_count": null,
      "metadata": {
        "id": "FePZqno74eWv"
      },
      "outputs": [
        {
          "name": "stdout",
          "output_type": "stream",
          "text": [
            "Milk Obtained:  849\n"
          ]
        }
      ],
      "source": [
        "# Write your code here\n",
        "\n",
        "import math\n",
        "height = int(input('enter the height: '))\n",
        "length = int(input('enter the length: '))\n",
        "breadth = int(input('enter the breadth: '))\n",
        "glass_height = int(input('enter the glass height: '))\n",
        "radius = int(input('enter the radius: '))\n",
        "\n",
        "volume_of_milk_tank = height * length * breadth\n",
        "volume_of_glass = 3.14 * (radius * radius) * glass_height\n",
        "milk_obtained = volume_of_milk_tank / volume_of_glass\n",
        "print('Milk Obtained: ', math.floor(milk_obtained))"
      ]
    }
  ],
  "metadata": {
    "colab": {
      "provenance": []
    },
    "kernelspec": {
      "display_name": "base",
      "language": "python",
      "name": "python3"
    },
    "language_info": {
      "codemirror_mode": {
        "name": "ipython",
        "version": 3
      },
      "file_extension": ".py",
      "mimetype": "text/x-python",
      "name": "python",
      "nbconvert_exporter": "python",
      "pygments_lexer": "ipython3",
      "version": "3.10.16"
    }
  },
  "nbformat": 4,
  "nbformat_minor": 0
}
