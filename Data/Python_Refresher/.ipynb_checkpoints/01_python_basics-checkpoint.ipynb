{
 "cells": [
  {
   "cell_type": "code",
   "execution_count": 1,
   "id": "ceb08002-8365-421a-92be-74314a591ee4",
   "metadata": {},
   "outputs": [],
   "source": [
    "name = \"Alice\"\n",
    "greeting = 'Hello'"
   ]
  },
  {
   "cell_type": "code",
   "execution_count": 3,
   "id": "72726f8b-109c-4a81-acba-240781c5da0c",
   "metadata": {},
   "outputs": [],
   "source": [
    "message = \"\"\"This is\n",
    "a multiline\n",
    "string.\"\"\""
   ]
  },
  {
   "cell_type": "code",
   "execution_count": 7,
   "id": "26caa3bb-ee62-43f2-9831-c643a4c2e372",
   "metadata": {},
   "outputs": [
    {
     "data": {
      "text/plain": [
       "'hon'"
      ]
     },
     "execution_count": 7,
     "metadata": {},
     "output_type": "execute_result"
    }
   ],
   "source": [
    "text = \"Python\"\n",
    "text[0]    # 'P'\n",
    "text[-1]   # 'n' (last character)\n",
    "text[0:2]  # 'Py'\n",
    "text[:3]   # 'Pyt'\n",
    "text[3:]   # 'hon'"
   ]
  },
  {
   "cell_type": "code",
   "execution_count": null,
   "id": "27c7b947-9a7d-4265-96d5-ef3097db4e6c",
   "metadata": {},
   "outputs": [],
   "source": []
  }
 ],
 "metadata": {
  "kernelspec": {
   "display_name": "Python [conda env:base] *",
   "language": "python",
   "name": "conda-base-py"
  },
  "language_info": {
   "codemirror_mode": {
    "name": "ipython",
    "version": 3
   },
   "file_extension": ".py",
   "mimetype": "text/x-python",
   "name": "python",
   "nbconvert_exporter": "python",
   "pygments_lexer": "ipython3",
   "version": "3.10.16"
  }
 },
 "nbformat": 4,
 "nbformat_minor": 5
}
